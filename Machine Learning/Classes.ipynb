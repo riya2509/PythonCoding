{
 "cells": [
  {
   "cell_type": "markdown",
   "id": "22d6e2df",
   "metadata": {},
   "source": [
    "# Public,private and protected"
   ]
  },
  {
   "cell_type": "markdown",
   "id": "cd31c966",
   "metadata": {},
   "source": [
    "## all classes are by default public and when added _ it is protected"
   ]
  },
  {
   "cell_type": "code",
   "execution_count": 26,
   "id": "f0af6c4a",
   "metadata": {},
   "outputs": [],
   "source": [
    "class Car():\n",
    "    def _init_(self,windows,wheels,Etype):\n",
    "     self._windows=windows\n",
    "     self._wheels=wheels\n",
    "     self._Etype=enginetype"
   ]
  },
  {
   "cell_type": "code",
   "execution_count": 7,
   "id": "92af1017",
   "metadata": {},
   "outputs": [],
   "source": [
    "benz=car()"
   ]
  },
  {
   "cell_type": "code",
   "execution_count": 11,
   "id": "a943c376",
   "metadata": {},
   "outputs": [],
   "source": [
    "benz.wheels=2"
   ]
  },
  {
   "cell_type": "code",
   "execution_count": 12,
   "id": "9380d110",
   "metadata": {},
   "outputs": [
    {
     "data": {
      "text/plain": [
       "2"
      ]
     },
     "execution_count": 12,
     "metadata": {},
     "output_type": "execute_result"
    }
   ],
   "source": [
    "benz.wheels"
   ]
  },
  {
   "cell_type": "code",
   "execution_count": null,
   "id": "80557cde",
   "metadata": {},
   "outputs": [],
   "source": []
  },
  {
   "cell_type": "code",
   "execution_count": 31,
   "id": "2af02529",
   "metadata": {},
   "outputs": [],
   "source": []
  },
  {
   "cell_type": "code",
   "execution_count": null,
   "id": "5004d66c",
   "metadata": {},
   "outputs": [],
   "source": []
  },
  {
   "cell_type": "code",
   "execution_count": null,
   "id": "1abe2e3d",
   "metadata": {},
   "outputs": [],
   "source": []
  }
 ],
 "metadata": {
  "kernelspec": {
   "display_name": "Python 3 (ipykernel)",
   "language": "python",
   "name": "python3"
  },
  "language_info": {
   "codemirror_mode": {
    "name": "ipython",
    "version": 3
   },
   "file_extension": ".py",
   "mimetype": "text/x-python",
   "name": "python",
   "nbconvert_exporter": "python",
   "pygments_lexer": "ipython3",
   "version": "3.9.12"
  }
 },
 "nbformat": 4,
 "nbformat_minor": 5
}
