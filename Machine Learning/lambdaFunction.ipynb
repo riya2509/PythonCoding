{
 "cells": [
  {
   "cell_type": "code",
   "execution_count": 2,
   "id": "4f9f5b0e",
   "metadata": {},
   "outputs": [],
   "source": [
    "def even (num):\n",
    "    if num%2==0:\n",
    "        return True;\n",
    "    "
   ]
  },
  {
   "cell_type": "code",
   "execution_count": 3,
   "id": "aef2ab6a",
   "metadata": {},
   "outputs": [
    {
     "data": {
      "text/plain": [
       "True"
      ]
     },
     "execution_count": 3,
     "metadata": {},
     "output_type": "execute_result"
    }
   ],
   "source": [
    "even (4)"
   ]
  },
  {
   "cell_type": "code",
   "execution_count": 4,
   "id": "50a3aa8f",
   "metadata": {},
   "outputs": [],
   "source": [
    "even=lambda num:num%2==0\n"
   ]
  },
  {
   "cell_type": "code",
   "execution_count": 5,
   "id": "8fbe78e3",
   "metadata": {},
   "outputs": [
    {
     "data": {
      "text/plain": [
       "True"
      ]
     },
     "execution_count": 5,
     "metadata": {},
     "output_type": "execute_result"
    }
   ],
   "source": [
    "even(6)"
   ]
  },
  {
   "cell_type": "code",
   "execution_count": 5,
   "id": "797edff5",
   "metadata": {},
   "outputs": [],
   "source": [
    "n1=2\n",
    "n2=3\n",
    "n3=5"
   ]
  },
  {
   "cell_type": "code",
   "execution_count": 14,
   "id": "890c4b31",
   "metadata": {},
   "outputs": [],
   "source": [
    "def tot_sum (n):\n",
    "    if n==n1+n2+n3:\n",
    "        return 'yo'\n",
    "    else:\n",
    "        return False\n",
    "    "
   ]
  },
  {
   "cell_type": "code",
   "execution_count": 15,
   "id": "0773e86b",
   "metadata": {},
   "outputs": [
    {
     "data": {
      "text/plain": [
       "'yo'"
      ]
     },
     "execution_count": 15,
     "metadata": {},
     "output_type": "execute_result"
    }
   ],
   "source": [
    "tot_sum(10)"
   ]
  },
  {
   "cell_type": "code",
   "execution_count": 11,
   "id": "b5fd681f",
   "metadata": {},
   "outputs": [],
   "source": [
    "total=lambda n:n==n1+n2+n3"
   ]
  },
  {
   "cell_type": "code",
   "execution_count": 17,
   "id": "0ecee8fb",
   "metadata": {},
   "outputs": [
    {
     "data": {
      "text/plain": [
       "True"
      ]
     },
     "execution_count": 17,
     "metadata": {},
     "output_type": "execute_result"
    }
   ],
   "source": [
    "total(10)"
   ]
  },
  {
   "cell_type": "code",
   "execution_count": null,
   "id": "85e39de1",
   "metadata": {},
   "outputs": [],
   "source": []
  }
 ],
 "metadata": {
  "kernelspec": {
   "display_name": "Python 3 (ipykernel)",
   "language": "python",
   "name": "python3"
  },
  "language_info": {
   "codemirror_mode": {
    "name": "ipython",
    "version": 3
   },
   "file_extension": ".py",
   "mimetype": "text/x-python",
   "name": "python",
   "nbconvert_exporter": "python",
   "pygments_lexer": "ipython3",
   "version": "3.9.12"
  }
 },
 "nbformat": 4,
 "nbformat_minor": 5
}
