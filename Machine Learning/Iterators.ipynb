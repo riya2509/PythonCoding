{
 "cells": [
  {
   "cell_type": "code",
   "execution_count": 2,
   "id": "b2447f1f",
   "metadata": {},
   "outputs": [],
   "source": [
    "lst=[3,4,432,4,44,4,4,6]"
   ]
  },
  {
   "cell_type": "code",
   "execution_count": 3,
   "id": "83419ba0",
   "metadata": {},
   "outputs": [
    {
     "name": "stdout",
     "output_type": "stream",
     "text": [
      "3\n",
      "4\n",
      "432\n",
      "4\n",
      "44\n",
      "4\n",
      "4\n",
      "6\n"
     ]
    }
   ],
   "source": [
    "for i in lst:\n",
    "    print(i)"
   ]
  },
  {
   "cell_type": "code",
   "execution_count": 14,
   "id": "03966095",
   "metadata": {},
   "outputs": [],
   "source": [
    "yo=iter(lst)"
   ]
  },
  {
   "cell_type": "code",
   "execution_count": 15,
   "id": "91f7a283",
   "metadata": {},
   "outputs": [
    {
     "data": {
      "text/plain": [
       "3"
      ]
     },
     "execution_count": 15,
     "metadata": {},
     "output_type": "execute_result"
    }
   ],
   "source": [
    "next(yo)"
   ]
  },
  {
   "cell_type": "code",
   "execution_count": 16,
   "id": "9f9274a8",
   "metadata": {},
   "outputs": [
    {
     "name": "stdout",
     "output_type": "stream",
     "text": [
      "4\n",
      "432\n",
      "4\n",
      "44\n",
      "4\n",
      "4\n",
      "6\n"
     ]
    }
   ],
   "source": [
    "for i in yo:\n",
    "    print(i)"
   ]
  },
  {
   "cell_type": "code",
   "execution_count": null,
   "id": "ccce069c",
   "metadata": {},
   "outputs": [],
   "source": []
  }
 ],
 "metadata": {
  "kernelspec": {
   "display_name": "Python 3 (ipykernel)",
   "language": "python",
   "name": "python3"
  },
  "language_info": {
   "codemirror_mode": {
    "name": "ipython",
    "version": 3
   },
   "file_extension": ".py",
   "mimetype": "text/x-python",
   "name": "python",
   "nbconvert_exporter": "python",
   "pygments_lexer": "ipython3",
   "version": "3.9.12"
  }
 },
 "nbformat": 4,
 "nbformat_minor": 5
}
