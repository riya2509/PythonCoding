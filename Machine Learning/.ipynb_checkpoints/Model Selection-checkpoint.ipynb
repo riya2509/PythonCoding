{
 "cells": [
  {
   "cell_type": "markdown",
   "id": "13ce543b",
   "metadata": {},
   "source": [
    "### Applying K-Fold cross validation "
   ]
  },
  {
   "cell_type": "code",
   "execution_count": 1,
   "id": "cd256c83",
   "metadata": {},
   "outputs": [],
   "source": [
    "import numpy as np\n",
    "import pandas as pd\n",
    "import matplotlib.pyplot as plt\n",
    "%matplotlib inline"
   ]
  },
  {
   "cell_type": "code",
   "execution_count": 2,
   "id": "5b03b5dc",
   "metadata": {},
   "outputs": [
    {
     "ename": "SyntaxError",
     "evalue": "positional argument follows keyword argument (3204665015.py, line 2)",
     "output_type": "error",
     "traceback": [
      "\u001b[1;36m  Input \u001b[1;32mIn [2]\u001b[1;36m\u001b[0m\n\u001b[1;33m    accuracies= cross_val_score(estimator=classifier,X=X_train,Y_train,CV=10)\u001b[0m\n\u001b[1;37m                                                                            ^\u001b[0m\n\u001b[1;31mSyntaxError\u001b[0m\u001b[1;31m:\u001b[0m positional argument follows keyword argument\n"
     ]
    }
   ],
   "source": [
    "from sklearn.model_selection import cross_val_score\n",
    "accuracies= cross_val_score(estimator=classifier,X=X_train,Y_train,CV=10)\n",
    "print(f\"Accuracy: {accuracies.mean()*100}\")\n",
    "print(\"standard deviation:{accuracies.std()*100}\")\n"
   ]
  },
  {
   "cell_type": "markdown",
   "id": "0d9e46d7",
   "metadata": {},
   "source": [
    "### Grid search"
   ]
  },
  {
   "cell_type": "code",
   "execution_count": null,
   "id": "c340bec8",
   "metadata": {},
   "outputs": [],
   "source": [
    "from sklearn.model_selection import GridSearchCV\n",
    "parameters=[{'C':[0.25,0.5,0.75,1],'kernel':['linear']},\n",
    "           {'C':[0.25,0.5,0.75,1],'kernel':['rbf'],'gamma':[0.1,0.2,0.3,0.4,0.5,0.6,0.7,0.8,0.9]}]\n",
    "grid_search=GridSearchCV(estimator=classifier,\n",
    "                        param_grid=parameters,\n",
    "                        scoring='accuracy',\n",
    "                        cv=10,\n",
    "                        n_jobs=-1)\n",
    "grid_search.fit(X_train,Y_train)\n",
    "best_accuracy=grid_search.best_score_\n",
    "best_parameters=grid_search.best_params_\n",
    "print(f\"Best accuracy:{best_accuracy*100}\")\n",
    "print(f\"Best parameters:{best_parameters})\n",
    "      "
   ]
  }
 ],
 "metadata": {
  "kernelspec": {
   "display_name": "Python 3 (ipykernel)",
   "language": "python",
   "name": "python3"
  },
  "language_info": {
   "codemirror_mode": {
    "name": "ipython",
    "version": 3
   },
   "file_extension": ".py",
   "mimetype": "text/x-python",
   "name": "python",
   "nbconvert_exporter": "python",
   "pygments_lexer": "ipython3",
   "version": "3.9.12"
  }
 },
 "nbformat": 4,
 "nbformat_minor": 5
}
